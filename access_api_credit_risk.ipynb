{
 "cells": [
  {
   "cell_type": "code",
   "execution_count": 4,
   "metadata": {},
   "outputs": [
    {
     "name": "stdout",
     "output_type": "stream",
     "text": [
      "Prediction: 1\n"
     ]
    }
   ],
   "source": [
    "import requests\n",
    "\n",
    "# URL da sua API no ECS (substitua pelo IP público ou pelo DNS do Load Balancer)\n",
    "url = 'http://18.229.125.191/predict'\n",
    "\n",
    "# Dados que você vai enviar no corpo da requisição (substitua com dados reais)\n",
    "data = {\n",
    "  \"person_age\": 35,\n",
    "  \"person_income\": 12000,\n",
    "  \"person_emp_length\": 10.0,\n",
    "  \"loan_amnt\": 10000,\n",
    "  \"loan_int_rate\": 7.5,\n",
    "  \"loan_percent_income\": 0.8,\n",
    "  \"cb_person_cred_hist_length\": 15,\n",
    "  \"person_home_ownership_MORTGAGE\": 1,\n",
    "  \"person_home_ownership_OTHER\": 0,\n",
    "  \"person_home_ownership_OWN\": 0,\n",
    "  \"person_home_ownership_RENT\": 0,\n",
    "  \"loan_intent_DEBTCONSOLIDATION\": 0,\n",
    "  \"loan_intent_EDUCATION\": 0,\n",
    "  \"loan_intent_HOMEIMPROVEMENT\": 1,\n",
    "  \"loan_intent_MEDICAL\": 0,\n",
    "  \"loan_intent_PERSONAL\": 0,\n",
    "  \"loan_intent_VENTURE\": 0,\n",
    "  \"loan_grade_A\": 1,\n",
    "  \"loan_grade_B\": 0,\n",
    "  \"loan_grade_C\": 0,\n",
    "  \"loan_grade_D\": 0,\n",
    "  \"loan_grade_E\": 0,\n",
    "  \"loan_grade_F\": 0,\n",
    "  \"loan_grade_G\": 0,\n",
    "  \"cb_person_default_on_file_N\": 1,\n",
    "  \"cb_person_default_on_file_Y\": 0\n",
    "}\n",
    "\n",
    "# Enviar a requisição POST para a API\n",
    "response = requests.post(url, json=data)\n",
    "\n",
    "# Verificar a resposta\n",
    "if response.status_code == 200:\n",
    "    prediction = response.json()\n",
    "    print(f\"Prediction: {prediction['prediction']}\")\n",
    "else:\n",
    "    print(f\"Failed to get response: {response.status_code}\")\n"
   ]
  },
  {
   "cell_type": "code",
   "execution_count": null,
   "metadata": {},
   "outputs": [],
   "source": []
  }
 ],
 "metadata": {
  "kernelspec": {
   "display_name": "Python 3",
   "language": "python",
   "name": "python3"
  },
  "language_info": {
   "codemirror_mode": {
    "name": "ipython",
    "version": 3
   },
   "file_extension": ".py",
   "mimetype": "text/x-python",
   "name": "python",
   "nbconvert_exporter": "python",
   "pygments_lexer": "ipython3",
   "version": "3.13.0"
  }
 },
 "nbformat": 4,
 "nbformat_minor": 2
}
